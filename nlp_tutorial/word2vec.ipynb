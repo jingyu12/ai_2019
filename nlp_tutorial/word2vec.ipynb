{
 "cells": [
  {
   "cell_type": "markdown",
   "metadata": {
    "toc": true
   },
   "source": [
    "<h1>Table of Contents<span class=\"tocSkip\"></span></h1>\n",
    "<div class=\"toc\"><ul class=\"toc-item\"><li><span><a href=\"#Word2vec-실습-with-Gensim,-Tensorflow\" data-toc-modified-id=\"Word2vec-실습-with-Gensim,-Tensorflow-1\"><span class=\"toc-item-num\">1&nbsp;&nbsp;</span>Word2vec 실습 with Gensim, Tensorflow</a></span><ul class=\"toc-item\"><li><span><a href=\"#예제-데이터\" data-toc-modified-id=\"예제-데이터-1.1\"><span class=\"toc-item-num\">1.1&nbsp;&nbsp;</span>예제 데이터</a></span></li></ul></li><li><span><a href=\"#Tensorflow\" data-toc-modified-id=\"Tensorflow-2\"><span class=\"toc-item-num\">2&nbsp;&nbsp;</span>Tensorflow</a></span><ul class=\"toc-item\"><li><span><a href=\"#시각화\" data-toc-modified-id=\"시각화-2.1\"><span class=\"toc-item-num\">2.1&nbsp;&nbsp;</span>시각화</a></span></li></ul></li><li><span><a href=\"#Gensim\" data-toc-modified-id=\"Gensim-3\"><span class=\"toc-item-num\">3&nbsp;&nbsp;</span>Gensim</a></span><ul class=\"toc-item\"><li><span><a href=\"#시각화\" data-toc-modified-id=\"시각화-3.1\"><span class=\"toc-item-num\">3.1&nbsp;&nbsp;</span>시각화</a></span></li></ul></li><li><span><a href=\"#실습-데이터\" data-toc-modified-id=\"실습-데이터-4\"><span class=\"toc-item-num\">4&nbsp;&nbsp;</span>실습 데이터</a></span><ul class=\"toc-item\"><li><span><a href=\"#answer\" data-toc-modified-id=\"answer-4.1\"><span class=\"toc-item-num\">4.1&nbsp;&nbsp;</span>answer</a></span><ul class=\"toc-item\"><li><span><a href=\"#시각화\" data-toc-modified-id=\"시각화-4.1.1\"><span class=\"toc-item-num\">4.1.1&nbsp;&nbsp;</span>시각화</a></span></li></ul></li></ul></li><li><span><a href=\"#Appendix\" data-toc-modified-id=\"Appendix-5\"><span class=\"toc-item-num\">5&nbsp;&nbsp;</span>Appendix</a></span></li></ul></div>"
   ]
  },
  {
   "cell_type": "markdown",
   "metadata": {},
   "source": [
    "문서 유사도 측정 (TF-IDF / 워드 임베딩), 시각화(t-sne) --- wiki, 영화 리뷰"
   ]
  },
  {
   "cell_type": "markdown",
   "metadata": {},
   "source": [
    "## Word2vec 실습 with Gensim, Tensorflow"
   ]
  },
  {
   "cell_type": "code",
   "execution_count": 1,
   "metadata": {},
   "outputs": [],
   "source": [
    "import tensorflow as tf\n",
    "import matplotlib.pyplot as plt\n",
    "import numpy as np\n",
    "import pandas as pd\n",
    "\n",
    "%matplotlib inline"
   ]
  },
  {
   "cell_type": "markdown",
   "metadata": {},
   "source": [
    "### 예제 데이터"
   ]
  },
  {
   "cell_type": "code",
   "execution_count": 11,
   "metadata": {},
   "outputs": [],
   "source": [
    "# 3 Words Sentence\n",
    "sentences = [ \"i like dog\", \"i like cat\", \"i like animal\",\n",
    "              \"dog cat animal\", \"apple cat dog like\", \"dog fish milk like\",\n",
    "              \"dog cat eyes like\", \"i like apple\", \"apple i hate\",\n",
    "              \"apple i movie book music like\", \"cat dog hate\", \"cat dog like\"]\n",
    "\n",
    "word_sequence = \" \".join(sentences).split()\n",
    "word_list = \" \".join(sentences).split()\n",
    "word_list = list(set(word_list))\n",
    "word_dict = {w: i for i, w in enumerate(word_list)}"
   ]
  },
  {
   "cell_type": "markdown",
   "metadata": {},
   "source": [
    "## Tensorflow"
   ]
  },
  {
   "cell_type": "code",
   "execution_count": 4,
   "metadata": {},
   "outputs": [],
   "source": [
    "tf.reset_default_graph()\n",
    "\n",
    "\n",
    "# Word2Vec Parameter\n",
    "batch_size = 20\n",
    "embedding_size = 2 #To show 2 dim embedding graph\n",
    "voc_size = len(word_list)"
   ]
  },
  {
   "cell_type": "code",
   "execution_count": 2,
   "metadata": {},
   "outputs": [],
   "source": [
    "def random_batch(data, size):\n",
    "    random_inputs = []\n",
    "    random_labels = []\n",
    "    random_index = np.random.choice(range(len(data)), size, replace=False)\n",
    "\n",
    "    for i in random_index:\n",
    "        random_inputs.append(np.eye(voc_size)[data[i][0]])  # target\n",
    "        random_labels.append(np.eye(voc_size)[data[i][1]])  # context word\n",
    "\n",
    "    return random_inputs, random_labels"
   ]
  },
  {
   "cell_type": "code",
   "execution_count": 3,
   "metadata": {},
   "outputs": [],
   "source": [
    "# Make skip gram of one size window\n",
    "skip_grams = []\n",
    "for i in range(1, len(word_sequence) - 1):\n",
    "    target = word_dict[word_sequence[i]]\n",
    "    context = [word_dict[word_sequence[i - 1]], word_dict[word_sequence[i + 1]]]\n",
    "\n",
    "    for w in context:\n",
    "        skip_grams.append([target, w])"
   ]
  },
  {
   "cell_type": "code",
   "execution_count": 5,
   "metadata": {},
   "outputs": [],
   "source": [
    "# Model\n",
    "inputs = tf.placeholder(tf.float32, shape=[None, voc_size])\n",
    "labels = tf.placeholder(tf.float32, shape=[None, voc_size])\n",
    "\n",
    "# W and WT is not Traspose relationship\n",
    "W = tf.Variable(tf.random_uniform([voc_size, embedding_size], -1.0, 1.0))\n",
    "WT = tf.Variable(tf.random_uniform([embedding_size, voc_size], -1.0, 1.0))\n",
    "\n",
    "hidden_layer = tf.matmul(inputs, W) # [batch_size, embedding_size]\n",
    "output_layer = tf.matmul(hidden_layer, WT) # [batch_size, voc_size]\n",
    "\n",
    "cost = tf.reduce_mean(tf.nn.softmax_cross_entropy_with_logits_v2(logits=output_layer, labels=labels))\n",
    "optimizer = tf.train.AdamOptimizer(0.001).minimize(cost)"
   ]
  },
  {
   "cell_type": "code",
   "execution_count": 6,
   "metadata": {},
   "outputs": [
    {
     "name": "stdout",
     "output_type": "stream",
     "text": [
      "Epoch: 1000 cost = 2.352436\n",
      "Epoch: 2000 cost = 2.276968\n",
      "Epoch: 3000 cost = 2.220269\n",
      "Epoch: 4000 cost = 1.941386\n",
      "Epoch: 5000 cost = 1.922742\n"
     ]
    }
   ],
   "source": [
    "with tf.Session() as sess:\n",
    "    init = tf.global_variables_initializer()\n",
    "    sess.run(init)\n",
    "\n",
    "    for epoch in range(5000):\n",
    "        batch_inputs, batch_labels = random_batch(skip_grams, batch_size)\n",
    "        _, loss = sess.run([optimizer, cost], feed_dict={inputs: batch_inputs, labels: batch_labels})\n",
    "\n",
    "        if (epoch + 1)%1000 == 0:\n",
    "            print('Epoch:', '%04d' % (epoch + 1), 'cost =', '{:.6f}'.format(loss))\n",
    "\n",
    "        trained_embeddings = W.eval()"
   ]
  },
  {
   "cell_type": "markdown",
   "metadata": {},
   "source": [
    "### 시각화"
   ]
  },
  {
   "cell_type": "code",
   "execution_count": 7,
   "metadata": {},
   "outputs": [
    {
     "data": {
      "image/png": "[encoded data removed]",
      "text/plain": [
       "<Figure size 432x288 with 1 Axes>"
      ]
     },
     "metadata": {
      "needs_background": "light"
     },
     "output_type": "display_data"
    }
   ],
   "source": [
    "for i, label in enumerate(word_list):\n",
    "    x, y = trained_embeddings[i]\n",
    "    plt.scatter(x, y)\n",
    "    plt.annotate(label, xy=(x, y), xytext=(5, 2), textcoords='offset points', ha='right', va='bottom')"
   ]
  },
  {
   "cell_type": "markdown",
   "metadata": {},
   "source": [
    "## Gensim"
   ]
  },
  {
   "cell_type": "code",
   "execution_count": 15,
   "metadata": {},
   "outputs": [],
   "source": [
    "from gensim.models import Word2Vec"
   ]
  },
  {
   "cell_type": "markdown",
   "metadata": {},
   "source": [
    "- list in list 형태로 데이터 학습  \n",
    "- shift+tab을 누르면 파라미터 정보에 대해 볼 수 있음  \n",
    "  ex) sg=1 : skip-gram 사용"
   ]
  },
  {
   "cell_type": "code",
   "execution_count": 73,
   "metadata": {},
   "outputs": [],
   "source": [
    "s=list(map(lambda x: x.split(' '),sentences))"
   ]
  },
  {
   "cell_type": "code",
   "execution_count": 74,
   "metadata": {},
   "outputs": [],
   "source": [
    "model=Word2Vec(s,sg=1,size=2,min_count=1)"
   ]
  },
  {
   "cell_type": "markdown",
   "metadata": {},
   "source": [
    "https://radimrehurek.com/gensim/models/word2vec.html 를 참조\n",
    "\n",
    "- word_vec : 임베딩 벡터 구하기\n",
    "- similarity : 두 단어의 유사도 계산  \n",
    "- most_similar : 가장 유사한 단어를 출력"
   ]
  },
  {
   "cell_type": "code",
   "execution_count": 80,
   "metadata": {},
   "outputs": [
    {
     "data": {
      "text/plain": [
       "array([0.14408784, 0.08694033], dtype=float32)"
      ]
     },
     "execution_count": 80,
     "metadata": {},
     "output_type": "execute_result"
    }
   ],
   "source": [
    "# 각 단어의 임베딩 벡터 구하기\n",
    "\n",
    "model.wv.word_vec('dog')"
   ]
  },
  {
   "cell_type": "code",
   "execution_count": 82,
   "metadata": {},
   "outputs": [
    {
     "data": {
      "text/plain": [
       "0.9658141306538239"
      ]
     },
     "execution_count": 82,
     "metadata": {},
     "output_type": "execute_result"
    }
   ],
   "source": [
    "# 두 단어 사이의 유사도 구하기\n",
    "\n",
    "model.wv.similarity('dog', 'cat')"
   ]
  },
  {
   "cell_type": "code",
   "execution_count": 78,
   "metadata": {},
   "outputs": [
    {
     "data": {
      "text/plain": [
       "[('music', 0.6115697622299194),\n",
       " ('book', 0.5629396438598633),\n",
       " ('cat', 0.20715168118476868),\n",
       " ('dog', -0.053542375564575195),\n",
       " ('fish', -0.3438749611377716),\n",
       " ('animal', -0.5914135575294495),\n",
       " ('apple', -0.6067360639572144),\n",
       " ('movie', -0.6749720573425293),\n",
       " ('i', -0.8024645447731018),\n",
       " ('hate', -0.8549919128417969)]"
      ]
     },
     "execution_count": 78,
     "metadata": {},
     "output_type": "execute_result"
    }
   ],
   "source": [
    "# 각 단어와 가장 유사한 단어 구하기\n",
    "\n",
    "model.wv.similar_by_word('like',)"
   ]
  },
  {
   "cell_type": "markdown",
   "metadata": {},
   "source": [
    "### 시각화"
   ]
  },
  {
   "cell_type": "code",
   "execution_count": 76,
   "metadata": {
    "scrolled": true
   },
   "outputs": [
    {
     "data": {
      "image/png": "[encoded data removed]",
      "text/plain": [
       "<Figure size 432x288 with 1 Axes>"
      ]
     },
     "metadata": {
      "needs_background": "light"
     },
     "output_type": "display_data"
    }
   ],
   "source": [
    "for word in word_list:\n",
    "    x,y = model.wv.word_vec(word)\n",
    "    plt.scatter(x, y)\n",
    "    plt.annotate(word, xy=(x, y), xytext=(5, 2), textcoords='offset points', ha='right', va='bottom')    "
   ]
  },
  {
   "cell_type": "markdown",
   "metadata": {},
   "source": [
    "## 실습 데이터"
   ]
  },
  {
   "cell_type": "markdown",
   "metadata": {},
   "source": [
    "https://korquad.github.io/?fbclid=IwAR2UQrtwjHRjzEJkHyUsdA9e6NP7Bd70PbsEGJd-0NAsTlNRr9JhnDzXgUA"
   ]
  },
  {
   "cell_type": "markdown",
   "metadata": {},
   "source": [
    "word2vec 모델을 학습시키고, T-sne로 시각화 시키기\n",
    "\n",
    "- Tip) from sklearn.manifold import TSNE 활용"
   ]
  },
  {
   "cell_type": "code",
   "execution_count": 6,
   "metadata": {},
   "outputs": [],
   "source": [
    "def json2csv(filename):\n",
    "    data = pd.read_json(filename)\n",
    "    contexts = []\n",
    "    for i in range(data.shape[0]):\n",
    "        topic = data.iloc[i,1]['paragraphs']\n",
    "        for sub_para in topic:\n",
    "            for q_a in sub_para['qas']:\n",
    "                contexts.append(sub_para['context'])  \n",
    "                \n",
    "    df = pd.Series(contexts).drop_duplicates().reset_index(drop=True)\n",
    "    return df"
   ]
  },
  {
   "cell_type": "code",
   "execution_count": 7,
   "metadata": {},
   "outputs": [],
   "source": [
    "df=json2csv('nlp_tutorial/data//KorQuAD_v1.0_dev.json')"
   ]
  },
  {
   "cell_type": "code",
   "execution_count": 8,
   "metadata": {
    "scrolled": true
   },
   "outputs": [
    {
     "data": {
      "text/plain": [
       "960"
      ]
     },
     "execution_count": 8,
     "metadata": {},
     "output_type": "execute_result"
    }
   ],
   "source": [
    "df.shape[0]"
   ]
  },
  {
   "cell_type": "code",
   "execution_count": 9,
   "metadata": {},
   "outputs": [
    {
     "data": {
      "text/plain": [
       "0    1989년 2월 15일 여의도 농민 폭력 시위를 주도한 혐의(폭력행위등처벌에관한법률...\n",
       "1    \"내각과 장관들이 소외되고 대통령비서실의 권한이 너무 크다\", \"행보가 비서 본연의...\n",
       "2    알렉산더 메이그스 헤이그 2세(영어: Alexander Meigs Haig, Jr....\n",
       "3    노터데임 대학교에서 2년간 합리적으로 심각한 공부를 한 후 헤이그는 1944년 미국...\n",
       "4    헤이그는 닉슨 대통령이 그를 사성 장군과 육군 부참모로 진급시킬 때 집중 광선과 논...\n",
       "dtype: object"
      ]
     },
     "execution_count": 9,
     "metadata": {},
     "output_type": "execute_result"
    }
   ],
   "source": [
    "df.head()"
   ]
  },
  {
   "cell_type": "markdown",
   "metadata": {},
   "source": [
    "### answer"
   ]
  },
  {
   "cell_type": "code",
   "execution_count": 10,
   "metadata": {},
   "outputs": [],
   "source": [
    "from konlpy.tag import Komoran\n",
    "\n",
    "ko=Komoran()"
   ]
  },
  {
   "cell_type": "code",
   "execution_count": 11,
   "metadata": {},
   "outputs": [],
   "source": [
    "def get_nouns(x):\n",
    "    nouns=ko.nouns(x)\n",
    "    nouns=[noun for noun in nouns if len(noun)>1]\n",
    "    return nouns"
   ]
  },
  {
   "cell_type": "code",
   "execution_count": 12,
   "metadata": {},
   "outputs": [],
   "source": [
    "corpus=list(df.apply(get_nouns))"
   ]
  },
  {
   "cell_type": "code",
   "execution_count": 27,
   "metadata": {},
   "outputs": [],
   "source": [
    "# modeling\n",
    "w_model=Word2Vec(corpus,sg=1,size=100,min_count=30, workers=-1)"
   ]
  },
  {
   "cell_type": "code",
   "execution_count": 28,
   "metadata": {},
   "outputs": [
    {
     "name": "stdout",
     "output_type": "stream",
     "text": [
      "unique word 개수 : 433\n"
     ]
    }
   ],
   "source": [
    "uniq_words=list(w_model.wv.vocab.keys())\n",
    "\n",
    "print('unique word 개수 :',len(uniq_words))"
   ]
  },
  {
   "cell_type": "code",
   "execution_count": 35,
   "metadata": {},
   "outputs": [
    {
     "data": {
      "text/plain": [
       "[('세력', 0.2620029151439667),\n",
       " ('차이', 0.2365054190158844),\n",
       " ('가지', 0.2266274243593216),\n",
       " ('헌법', 0.21814650297164917),\n",
       " ('지적', 0.19943827390670776),\n",
       " ('운동', 0.1962122917175293),\n",
       " ('건설', 0.19551216065883636),\n",
       " ('자금', 0.19274091720581055),\n",
       " ('사용', 0.18963825702667236),\n",
       " ('무기', 0.18623533844947815)]"
      ]
     },
     "execution_count": 35,
     "metadata": {},
     "output_type": "execute_result"
    }
   ],
   "source": [
    "w_model.wv.most_similar('나폴레옹')"
   ]
  },
  {
   "cell_type": "markdown",
   "metadata": {},
   "source": [
    "#### 시각화"
   ]
  },
  {
   "cell_type": "code",
   "execution_count": 30,
   "metadata": {},
   "outputs": [
    {
     "name": "stdout",
     "output_type": "stream",
     "text": [
      "word vector shape : (433, 100)\n"
     ]
    }
   ],
   "source": [
    "wv_list=list(map(lambda x: list(w_model.wv.word_vec(x)),uniq_words))\n",
    "\n",
    "wv_list=np.array(wv_list)\n",
    "\n",
    "print('word vector shape :',wv_list.shape)"
   ]
  },
  {
   "cell_type": "code",
   "execution_count": 31,
   "metadata": {},
   "outputs": [],
   "source": [
    "# Perform the necessary imports\n",
    "from sklearn.manifold import TSNE\n",
    "\n",
    "tsne=TSNE(learning_rate=100,)"
   ]
  },
  {
   "cell_type": "code",
   "execution_count": 33,
   "metadata": {},
   "outputs": [],
   "source": [
    "transformed=tsne.fit_transform(wv_list)"
   ]
  },
  {
   "cell_type": "code",
   "execution_count": 34,
   "metadata": {},
   "outputs": [
    {
     "data": {
      "text/plain": [
       "<matplotlib.collections.PathCollection at 0x1f586b29400>"
      ]
     },
     "execution_count": 34,
     "metadata": {},
     "output_type": "execute_result"
    },
    {
     "data": {
      "image/png": "[encoded data removed]",
      "text/plain": [
       "<Figure size 432x288 with 1 Axes>"
      ]
     },
     "metadata": {
      "needs_background": "light"
     },
     "output_type": "display_data"
    }
   ],
   "source": [
    "xs = transformed[:,0]\n",
    "ys = transformed[:,1]\n",
    "plt.scatter(xs,ys)"
   ]
  },
  {
   "cell_type": "markdown",
   "metadata": {},
   "source": [
    "## Appendix"
   ]
  },
  {
   "cell_type": "code",
   "execution_count": null,
   "metadata": {},
   "outputs": [],
   "source": [
    "def json2csv(filename):\n",
    "    \n",
    "    data = pd.read_json(filename)\n",
    "    \n",
    "    contexts = []\n",
    "    questions = []\n",
    "    answers_text = []\n",
    "    answers_start = []\n",
    "    \n",
    "    for i in range(data.shape[0]):\n",
    "        topic = data.iloc[i,1]['paragraphs']\n",
    "        for sub_para in topic:\n",
    "            for q_a in sub_para['qas']:\n",
    "                questions.append(q_a['question'])\n",
    "                answers_start.append(q_a['answers'][0]['answer_start'])\n",
    "                answers_text.append(q_a['answers'][0]['text'])\n",
    "                contexts.append(sub_para['context'])  \n",
    "                \n",
    "    df = pd.DataFrame({\"context\":contexts, \"question\": questions, \n",
    "                       \"answer_start\": answers_start, \"text\": answers_text})\n",
    "    \n",
    "    return df"
   ]
  }
 ],
 "metadata": {
  "kernelspec": {
   "display_name": "Python 3",
   "language": "python",
   "name": "python3"
  },
  "language_info": {
   "codemirror_mode": {
    "name": "ipython",
    "version": 3
   },
   "file_extension": ".py",
   "mimetype": "text/x-python",
   "name": "python",
   "nbconvert_exporter": "python",
   "pygments_lexer": "ipython3",
   "version": "3.6.7"
  },
  "toc": {
   "base_numbering": 1,
   "nav_menu": {},
   "number_sections": true,
   "sideBar": true,
   "skip_h1_title": true,
   "title_cell": "Table of Contents",
   "title_sidebar": "Contents",
   "toc_cell": true,
   "toc_position": {
    "height": "calc(100% - 180px)",
    "left": "10px",
    "top": "150px",
    "width": "384px"
   },
   "toc_section_display": true,
   "toc_window_display": true
  },
  "varInspector": {
   "cols": {
    "lenName": 16,
    "lenType": 16,
    "lenVar": 40
   },
   "kernels_config": {
    "python": {
     "delete_cmd_postfix": "",
     "delete_cmd_prefix": "del ",
     "library": "var_list.py",
     "varRefreshCmd": "print(var_dic_list())"
    },
    "r": {
     "delete_cmd_postfix": ") ",
     "delete_cmd_prefix": "rm(",
     "library": "var_list.r",
     "varRefreshCmd": "cat(var_dic_list()) "
    }
   },
   "types_to_exclude": [
    "module",
    "function",
    "builtin_function_or_method",
    "instance",
    "_Feature"
   ],
   "window_display": false
  }
 },
 "nbformat": 4,
 "nbformat_minor": 2
}
